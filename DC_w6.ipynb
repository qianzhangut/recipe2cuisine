{
 "cells": [
  {
   "cell_type": "code",
   "execution_count": 26,
   "metadata": {
    "colab": {},
    "colab_type": "code",
    "id": "U0BgnyXcNh4H"
   },
   "outputs": [],
   "source": [
    "import pandas as pd\n",
    "import numpy as np\n",
    "import json\n",
    "import matplotlib.pyplot as plt\n",
    "\n",
    "\n",
    "from sklearn.model_selection import train_test_split, cross_val_score\n",
    "from sklearn.metrics import confusion_matrix\n",
    "from sklearn.preprocessing import scale\n",
    "from sklearn.ensemble import RandomForestClassifier\n",
    "from nltk.probability import FreqDist\n",
    "from sklearn.feature_extraction.text import TfidfVectorizer\n",
    "from scipy.sparse import csr_matrix\n",
    "from bayes_opt import BayesianOptimization\n",
    "from sklearn.model_selection import cross_val_score"
   ]
  },
  {
   "cell_type": "code",
   "execution_count": 3,
   "metadata": {
    "colab": {},
    "colab_type": "code",
    "id": "HfZ80160RrRe"
   },
   "outputs": [],
   "source": [
    "df = pd.read_json('recipies.json')\n"
   ]
  },
  {
   "cell_type": "code",
   "execution_count": 4,
   "metadata": {
    "colab": {
     "base_uri": "https://localhost:8080/",
     "height": 498
    },
    "colab_type": "code",
    "id": "aHttFuCxAYHE",
    "outputId": "bfc92324-2763-4958-9e90-4ac6a9bc719a"
   },
   "outputs": [
    {
     "data": {
      "image/png": "[encoded data removed]",
      "text/plain": [
       "<Figure size 648x432 with 1 Axes>"
      ]
     },
     "metadata": {
      "needs_background": "light"
     },
     "output_type": "display_data"
    }
   ],
   "source": [
    "plt.figure(figsize=(9,6))\n",
    "df.cuisine.value_counts().plot(kind = 'bar')\n",
    "\n",
    "\n",
    "plt.xlabel('Cuisine type',fontsize = 18)\n",
    "plt.ylabel('Number of cuisine',fontsize = 18)\n",
    "\n",
    "\n",
    "plt.xticks(fontsize=12,rotation=90)\n",
    "\n",
    "plt.title('Cuisine distribution', y=1.05, fontsize=18,fontweight='bold') \n",
    "plt.savefig('cuisine.png',  bbox_inches = 'tight')"
   ]
  },
  {
   "cell_type": "markdown",
   "metadata": {
    "colab": {},
    "colab_type": "code",
    "id": "2g-OZYknAadg"
   },
   "source": [
    "# nltk"
   ]
  },
  {
   "cell_type": "code",
   "execution_count": 5,
   "metadata": {},
   "outputs": [],
   "source": [
    "###find the important gradient by word frequency"
   ]
  },
  {
   "cell_type": "code",
   "execution_count": 6,
   "metadata": {
    "colab": {},
    "colab_type": "code",
    "id": "JQ6xaJvRAd_K"
   },
   "outputs": [],
   "source": [
    "cui_list = df.cuisine.unique()"
   ]
  },
  {
   "cell_type": "code",
   "execution_count": 7,
   "metadata": {
    "colab": {},
    "colab_type": "code",
    "id": "tPy44FPmA0sC"
   },
   "outputs": [],
   "source": [
    "food = 'italian'"
   ]
  },
  {
   "cell_type": "code",
   "execution_count": 8,
   "metadata": {
    "colab": {
     "base_uri": "https://localhost:8080/",
     "height": 717
    },
    "colab_type": "code",
    "id": "AzrbCXfuA0-l",
    "outputId": "0abdc7ef-94e8-4470-b84b-3b6c342e1257"
   },
   "outputs": [
    {
     "name": "stdout",
     "output_type": "stream",
     "text": [
      "greek [('salt', 572), ('olive oil', 504), ('dried oregano', 267), ('garlic cloves', 254), ('feta cheese crumbles', 252), ('extra-virgin olive oil', 229), ('fresh lemon juice', 222), ('ground black pepper', 221), ('garlic', 216), ('pepper', 203)] \n",
      "\n",
      "southern_us [('salt', 2290), ('butter', 1255), ('all-purpose flour', 1222), ('sugar', 1054), ('large eggs', 746), ('baking powder', 729), ('water', 686), ('unsalted butter', 655), ('milk', 645), ('buttermilk', 634)] \n",
      "\n",
      "filipino [('salt', 421), ('garlic', 325), ('water', 310), ('onions', 310), ('soy sauce', 251), ('pepper', 199), ('oil', 166), ('sugar', 136), ('carrots', 128), ('ground black pepper', 124)] \n",
      "\n",
      "indian [('salt', 1934), ('onions', 1195), ('garam masala', 862), ('water', 820), ('ground turmeric', 728), ('garlic', 726), ('cumin seed', 697), ('ground cumin', 683), ('vegetable oil', 593), ('oil', 546)] \n",
      "\n",
      "jamaican [('salt', 332), ('onions', 173), ('water', 153), ('garlic', 139), ('ground allspice', 128), ('pepper', 125), ('scallions', 111), ('dried thyme', 105), ('black pepper', 103), ('garlic cloves', 101)] \n",
      "\n",
      "spanish [('salt', 460), ('olive oil', 387), ('garlic cloves', 290), ('extra-virgin olive oil', 255), ('onions', 253), ('water', 158), ('tomatoes', 151), ('ground black pepper', 149), ('red bell pepper', 142), ('pepper', 133)] \n",
      "\n",
      "italian [('salt', 3454), ('olive oil', 3111), ('garlic cloves', 1619), ('grated parmesan cheese', 1580), ('garlic', 1471), ('ground black pepper', 1444), ('extra-virgin olive oil', 1362), ('onions', 1240), ('water', 1052), ('butter', 1030)] \n",
      "\n",
      "mexican [('salt', 2720), ('onions', 1493), ('ground cumin', 1346), ('garlic', 1317), ('olive oil', 1289), ('chili powder', 1236), ('jalapeno chilies', 1146), ('sour cream', 1076), ('avocado', 1044), ('corn tortillas', 946)] \n",
      "\n",
      "chinese [('soy sauce', 1363), ('sesame oil', 915), ('salt', 907), ('corn starch', 906), ('sugar', 824), ('garlic', 763), ('water', 762), ('green onions', 628), ('vegetable oil', 602), ('scallions', 591)] \n",
      "\n",
      "british [('salt', 407), ('all-purpose flour', 238), ('butter', 222), ('milk', 202), ('eggs', 191), ('unsalted butter', 191), ('sugar', 176), ('onions', 142), ('baking powder', 122), ('large eggs', 110)] \n",
      "\n",
      "thai [('fish sauce', 625), ('garlic', 414), ('salt', 396), ('coconut milk', 353), ('vegetable oil', 335), ('soy sauce', 332), ('sugar', 330), ('water', 310), ('garlic cloves', 299), ('fresh lime juice', 273)] \n",
      "\n",
      "vietnamese [('fish sauce', 392), ('sugar', 344), ('salt', 264), ('garlic', 239), ('water', 227), ('carrots', 196), ('soy sauce', 155), ('shallots', 151), ('garlic cloves', 148), ('vegetable oil', 145)] \n",
      "\n",
      "cajun_creole [('salt', 743), ('onions', 529), ('garlic', 370), ('green bell pepper', 336), ('butter', 334), ('olive oil', 316), ('cayenne pepper', 297), ('cajun seasoning', 293), ('all-purpose flour', 291), ('water', 280)] \n",
      "\n",
      "brazilian [('salt', 194), ('onions', 133), ('olive oil', 118), ('lime', 89), ('water', 87), ('garlic cloves', 83), ('garlic', 82), ('cachaca', 70), ('sugar', 69), ('tomatoes', 63)] \n",
      "\n",
      "french [('salt', 1203), ('sugar', 637), ('all-purpose flour', 593), ('unsalted butter', 592), ('olive oil', 516), ('butter', 514), ('water', 439), ('large eggs', 415), ('garlic cloves', 403), ('ground black pepper', 385)] \n",
      "\n",
      "japanese [('soy sauce', 561), ('salt', 422), ('mirin', 402), ('sugar', 401), ('water', 383), ('sake', 289), ('rice vinegar', 261), ('vegetable oil', 245), ('scallions', 229), ('ginger', 190)] \n",
      "\n",
      "irish [('salt', 376), ('all-purpose flour', 219), ('butter', 219), ('onions', 132), ('sugar', 120), ('potatoes', 120), ('baking soda', 115), ('baking powder', 112), ('milk', 111), ('carrots', 105)] \n",
      "\n",
      "korean [('soy sauce', 427), ('sesame oil', 403), ('garlic', 303), ('green onions', 293), ('sugar', 266), ('salt', 253), ('water', 242), ('sesame seeds', 223), ('onions', 208), ('scallions', 196)] \n",
      "\n",
      "moroccan [('salt', 413), ('olive oil', 412), ('ground cumin', 348), ('onions', 280), ('ground cinnamon', 223), ('garlic cloves', 223), ('water', 182), ('ground ginger', 175), ('carrots', 155), ('paprika', 150)] \n",
      "\n",
      "russian [('salt', 288), ('sugar', 155), ('onions', 145), ('all-purpose flour', 123), ('sour cream', 117), ('eggs', 112), ('water', 111), ('butter', 104), ('unsalted butter', 93), ('large eggs', 85)] \n",
      "\n"
     ]
    }
   ],
   "source": [
    "for item in cui_list:\n",
    "    lirsh = df.ingredients[df.cuisine == item].tolist()\n",
    "    total =  [x for j in lirsh for x in j]\n",
    "    fdist = FreqDist(total)\n",
    "    tops=fdist.most_common(10)\n",
    "    print(item, tops, '\\n' )\n"
   ]
  },
  {
   "cell_type": "code",
   "execution_count": 9,
   "metadata": {
    "colab": {},
    "colab_type": "code",
    "id": "FCzD55yXA2aP"
   },
   "outputs": [],
   "source": [
    "lirsh = df.ingredients[df.cuisine == food].tolist()\n",
    "\n",
    "total =  [x for j in lirsh for x in j if x!='salt']\n",
    "\n",
    "fdist = FreqDist(total)\n",
    "tops=fdist.most_common(10)"
   ]
  },
  {
   "cell_type": "code",
   "execution_count": 10,
   "metadata": {
    "colab": {},
    "colab_type": "code",
    "id": "BeN2mwmzA5BA"
   },
   "outputs": [],
   "source": [
    "xxx = [tops[i][0] for i in range(10)]\n",
    "yyy = [tops[i][1] for i in range(10)]"
   ]
  },
  {
   "cell_type": "code",
   "execution_count": 28,
   "metadata": {
    "colab": {
     "base_uri": "https://localhost:8080/",
     "height": 573
    },
    "colab_type": "code",
    "id": "00YBfz-pA6eb",
    "outputId": "0a7809d6-b9bc-4600-c9f7-3fa46a4489a9"
   },
   "outputs": [
    {
     "data": {
      "image/png": "[encoded data removed]",
      "text/plain": [
       "<Figure size 648x432 with 1 Axes>"
      ]
     },
     "metadata": {
      "needs_background": "light"
     },
     "output_type": "display_data"
    }
   ],
   "source": [
    "### plot important ingredient for Italian\n",
    "plt.figure(figsize=(9,6))\n",
    "plt.bar(xxx, yyy, color='purple')\n",
    "\n",
    "plt.xlabel('Ingredient',fontsize = 18)\n",
    "plt.ylabel('Frequency',fontsize = 18)\n",
    "\n",
    "plt.xticks(fontsize=12,rotation=90)\n",
    "\n",
    "plt.title('Important Ingredient for {}'.format(food.upper()), y=1.05, fontsize=18,fontweight='bold') \n",
    "plt.savefig('importance_nltk.png',  bbox_inches = 'tight')"
   ]
  },
  {
   "cell_type": "markdown",
   "metadata": {},
   "source": [
    "# rf classification"
   ]
  },
  {
   "cell_type": "code",
   "execution_count": 12,
   "metadata": {
    "colab": {},
    "colab_type": "code",
    "id": "9zOdSqmzA7sB"
   },
   "outputs": [],
   "source": [
    "###find the important ingredient by feature importance"
   ]
  },
  {
   "cell_type": "code",
   "execution_count": 13,
   "metadata": {
    "colab": {},
    "colab_type": "code",
    "id": "Gk5zjCd-A-3X"
   },
   "outputs": [],
   "source": [
    "allinone = df.ingredients.tolist()"
   ]
  },
  {
   "cell_type": "code",
   "execution_count": 14,
   "metadata": {
    "colab": {},
    "colab_type": "code",
    "id": "ZuE9DHThBAX5"
   },
   "outputs": [],
   "source": [
    "total_all =  [x for j in allinone for x in j ]"
   ]
  },
  {
   "cell_type": "code",
   "execution_count": 15,
   "metadata": {
    "colab": {},
    "colab_type": "code",
    "id": "pGmZpDV5BCWW"
   },
   "outputs": [],
   "source": [
    "name = list(set(total_all))"
   ]
  },
  {
   "cell_type": "code",
   "execution_count": 16,
   "metadata": {
    "colab": {},
    "colab_type": "code",
    "id": "ZviljEt2BEUq"
   },
   "outputs": [],
   "source": [
    "num = [str(i) for i in range(len(name))]"
   ]
  },
  {
   "cell_type": "code",
   "execution_count": 17,
   "metadata": {
    "colab": {},
    "colab_type": "code",
    "id": "AdsSy5SYBF2j"
   },
   "outputs": [],
   "source": [
    "name_num = dict(zip(name, num))"
   ]
  },
  {
   "cell_type": "code",
   "execution_count": 18,
   "metadata": {
    "colab": {},
    "colab_type": "code",
    "id": "etuzf-GxBHNP"
   },
   "outputs": [],
   "source": [
    "def map_ingredient(info):\n",
    "    at = [name_num[i] for i in info]\n",
    "    at = ' '.join(item for item in at)\n",
    "    return at"
   ]
  },
  {
   "cell_type": "code",
   "execution_count": 19,
   "metadata": {
    "colab": {},
    "colab_type": "code",
    "id": "TliDcDa0BIfr"
   },
   "outputs": [],
   "source": [
    "df['formated'] =df.ingredients.apply(map_ingredient)\n"
   ]
  },
  {
   "cell_type": "code",
   "execution_count": 20,
   "metadata": {
    "colab": {},
    "colab_type": "code",
    "id": "8dgLN00gBJuC"
   },
   "outputs": [],
   "source": [
    "tfidf_vectorizer = TfidfVectorizer(max_df = 0.9, ngram_range=(1, 1), max_features=300 )\n",
    "### TF-IDF feature matrix\n",
    "tfidf = tfidf_vectorizer.fit_transform(df.formated)"
   ]
  },
  {
   "cell_type": "code",
   "execution_count": 21,
   "metadata": {
    "colab": {},
    "colab_type": "code",
    "id": "Mwyxr6wvBLTi"
   },
   "outputs": [],
   "source": [
    "X = tfidf.toarray()"
   ]
  },
  {
   "cell_type": "code",
   "execution_count": 22,
   "metadata": {
    "colab": {},
    "colab_type": "code",
    "id": "MdW_FC83BM6i"
   },
   "outputs": [],
   "source": [
    "y = df['cuisine'].apply(lambda x : x if x==food else 'other')"
   ]
  },
  {
   "cell_type": "code",
   "execution_count": 23,
   "metadata": {
    "colab": {},
    "colab_type": "code",
    "id": "tTtWObooBOHh"
   },
   "outputs": [],
   "source": [
    "###split to training and testing\n",
    "X_train, X_test, y_train, y_test = train_test_split(X, y, test_size=0.3, random_state=41)"
   ]
  },
  {
   "cell_type": "code",
   "execution_count": 24,
   "metadata": {
    "colab": {},
    "colab_type": "code",
    "id": "Pk1CoEjVDicS"
   },
   "outputs": [],
   "source": [
    "### Bayesian opt to tune hyperparameters\n",
    "def rf_cv(n_estimators, min_samples_split, max_features, max_depth):\n",
    "    val = cross_val_score(\n",
    "        RandomForestClassifier(n_estimators=int(n_estimators),\n",
    "            min_samples_split=int(min_samples_split),\n",
    "            max_features=min(max_features, 0.999), # float\n",
    "            max_depth=int(max_depth),\n",
    "            random_state=2\n",
    "        ),\n",
    "        X_train, y_train, scoring='roc_auc', cv=5\n",
    "    ).mean()\n",
    "    return val\n",
    "    \n",
    "### Run Bayesian optimization  \n",
    "rf_bo = BayesianOptimization(\n",
    "        rf_cv,\n",
    "        {'n_estimators': (10, 250),\n",
    "        'min_samples_split': (2, 25),\n",
    "        'max_features': (0.1, 0.999),\n",
    "        'max_depth': (5, 15)}\n",
    "    )"
   ]
  },
  {
   "cell_type": "code",
   "execution_count": 50,
   "metadata": {
    "colab": {
     "base_uri": "https://localhost:8080/",
     "height": 731
    },
    "colab_type": "code",
    "id": "LOhkir8JBPY-",
    "outputId": "38192af9-940f-435d-ef25-497156513374"
   },
   "outputs": [
    {
     "name": "stdout",
     "output_type": "stream",
     "text": [
      "|   iter    |  target   | max_depth | max_fe... | min_sa... | n_esti... |\n",
      "-------------------------------------------------------------------------\n",
      "| \u001b[0m 1       \u001b[0m | \u001b[0m 0.853   \u001b[0m | \u001b[0m 9.827   \u001b[0m | \u001b[0m 0.5112  \u001b[0m | \u001b[0m 21.1    \u001b[0m | \u001b[0m 80.64   \u001b[0m |\n",
      "| \u001b[95m 2       \u001b[0m | \u001b[95m 0.8757  \u001b[0m | \u001b[95m 12.92   \u001b[0m | \u001b[95m 0.3659  \u001b[0m | \u001b[95m 15.45   \u001b[0m | \u001b[95m 105.6   \u001b[0m |\n",
      "| \u001b[0m 3       \u001b[0m | \u001b[0m 0.8302  \u001b[0m | \u001b[0m 6.199   \u001b[0m | \u001b[0m 0.9701  \u001b[0m | \u001b[0m 8.533   \u001b[0m | \u001b[0m 112.2   \u001b[0m |\n",
      "| \u001b[0m 4       \u001b[0m | \u001b[0m 0.8636  \u001b[0m | \u001b[0m 6.221   \u001b[0m | \u001b[0m 0.2599  \u001b[0m | \u001b[0m 4.112   \u001b[0m | \u001b[0m 180.2   \u001b[0m |\n",
      "| \u001b[95m 5       \u001b[0m | \u001b[95m 0.8941  \u001b[0m | \u001b[95m 5.586   \u001b[0m | \u001b[95m 0.1032  \u001b[0m | \u001b[95m 6.527   \u001b[0m | \u001b[95m 242.9   \u001b[0m |\n",
      "| \u001b[0m 6       \u001b[0m | \u001b[0m 0.832   \u001b[0m | \u001b[0m 5.766   \u001b[0m | \u001b[0m 0.5427  \u001b[0m | \u001b[0m 9.668   \u001b[0m | \u001b[0m 67.34   \u001b[0m |\n",
      "| \u001b[0m 7       \u001b[0m | \u001b[0m 0.8559  \u001b[0m | \u001b[0m 11.48   \u001b[0m | \u001b[0m 0.5589  \u001b[0m | \u001b[0m 17.81   \u001b[0m | \u001b[0m 26.18   \u001b[0m |\n",
      "| \u001b[0m 8       \u001b[0m | \u001b[0m 0.8621  \u001b[0m | \u001b[0m 14.32   \u001b[0m | \u001b[0m 0.5187  \u001b[0m | \u001b[0m 18.96   \u001b[0m | \u001b[0m 12.03   \u001b[0m |\n",
      "| \u001b[0m 9       \u001b[0m | \u001b[0m 0.8642  \u001b[0m | \u001b[0m 13.16   \u001b[0m | \u001b[0m 0.616   \u001b[0m | \u001b[0m 21.94   \u001b[0m | \u001b[0m 80.75   \u001b[0m |\n",
      "| \u001b[0m 10      \u001b[0m | \u001b[0m 0.8881  \u001b[0m | \u001b[0m 14.92   \u001b[0m | \u001b[0m 0.4144  \u001b[0m | \u001b[0m 24.61   \u001b[0m | \u001b[0m 241.3   \u001b[0m |\n",
      "| \u001b[0m 11      \u001b[0m | \u001b[0m 0.8784  \u001b[0m | \u001b[0m 14.87   \u001b[0m | \u001b[0m 0.6287  \u001b[0m | \u001b[0m 2.101   \u001b[0m | \u001b[0m 245.1   \u001b[0m |\n",
      "| \u001b[0m 12      \u001b[0m | \u001b[0m 0.8683  \u001b[0m | \u001b[0m 14.92   \u001b[0m | \u001b[0m 0.7807  \u001b[0m | \u001b[0m 24.85   \u001b[0m | \u001b[0m 173.6   \u001b[0m |\n",
      "| \u001b[0m 13      \u001b[0m | \u001b[0m 0.859   \u001b[0m | \u001b[0m 13.62   \u001b[0m | \u001b[0m 0.4847  \u001b[0m | \u001b[0m 2.648   \u001b[0m | \u001b[0m 10.06   \u001b[0m |\n",
      "| \u001b[95m 14      \u001b[0m | \u001b[95m 0.8975  \u001b[0m | \u001b[95m 14.71   \u001b[0m | \u001b[95m 0.2754  \u001b[0m | \u001b[95m 4.018   \u001b[0m | \u001b[95m 214.9   \u001b[0m |\n",
      "| \u001b[0m 15      \u001b[0m | \u001b[0m 0.84    \u001b[0m | \u001b[0m 5.067   \u001b[0m | \u001b[0m 0.4663  \u001b[0m | \u001b[0m 24.98   \u001b[0m | \u001b[0m 221.5   \u001b[0m |\n",
      "| \u001b[95m 16      \u001b[0m | \u001b[95m 0.9092  \u001b[0m | \u001b[95m 15.0    \u001b[0m | \u001b[95m 0.1445  \u001b[0m | \u001b[95m 4.373   \u001b[0m | \u001b[95m 155.7   \u001b[0m |\n",
      "| \u001b[0m 17      \u001b[0m | \u001b[0m 0.8298  \u001b[0m | \u001b[0m 5.207   \u001b[0m | \u001b[0m 0.7527  \u001b[0m | \u001b[0m 23.93   \u001b[0m | \u001b[0m 248.9   \u001b[0m |\n",
      "| \u001b[0m 18      \u001b[0m | \u001b[0m 0.8771  \u001b[0m | \u001b[0m 15.0    \u001b[0m | \u001b[0m 0.531   \u001b[0m | \u001b[0m 25.0    \u001b[0m | \u001b[0m 133.5   \u001b[0m |\n",
      "| \u001b[0m 19      \u001b[0m | \u001b[0m 0.8082  \u001b[0m | \u001b[0m 5.854   \u001b[0m | \u001b[0m 0.7926  \u001b[0m | \u001b[0m 23.74   \u001b[0m | \u001b[0m 10.09   \u001b[0m |\n",
      "| \u001b[95m 20      \u001b[0m | \u001b[95m 0.9094  \u001b[0m | \u001b[95m 14.82   \u001b[0m | \u001b[95m 0.1149  \u001b[0m | \u001b[95m 2.163   \u001b[0m | \u001b[95m 176.0   \u001b[0m |\n",
      "| \u001b[95m 21      \u001b[0m | \u001b[95m 0.9125  \u001b[0m | \u001b[95m 15.0    \u001b[0m | \u001b[95m 0.1     \u001b[0m | \u001b[95m 2.0     \u001b[0m | \u001b[95m 131.8   \u001b[0m |\n",
      "| \u001b[0m 22      \u001b[0m | \u001b[0m 0.8982  \u001b[0m | \u001b[0m 14.34   \u001b[0m | \u001b[0m 0.2035  \u001b[0m | \u001b[0m 2.427   \u001b[0m | \u001b[0m 90.17   \u001b[0m |\n",
      "| \u001b[0m 23      \u001b[0m | \u001b[0m 0.9081  \u001b[0m | \u001b[0m 14.67   \u001b[0m | \u001b[0m 0.1768  \u001b[0m | \u001b[0m 12.65   \u001b[0m | \u001b[0m 234.2   \u001b[0m |\n",
      "| \u001b[0m 24      \u001b[0m | \u001b[0m 0.854   \u001b[0m | \u001b[0m 5.731   \u001b[0m | \u001b[0m 0.3239  \u001b[0m | \u001b[0m 2.91    \u001b[0m | \u001b[0m 233.0   \u001b[0m |\n",
      "| \u001b[0m 25      \u001b[0m | \u001b[0m 0.8925  \u001b[0m | \u001b[0m 14.53   \u001b[0m | \u001b[0m 0.3153  \u001b[0m | \u001b[0m 18.88   \u001b[0m | \u001b[0m 203.1   \u001b[0m |\n",
      "| \u001b[0m 26      \u001b[0m | \u001b[0m 0.9044  \u001b[0m | \u001b[0m 14.2    \u001b[0m | \u001b[0m 0.1255  \u001b[0m | \u001b[0m 2.572   \u001b[0m | \u001b[0m 50.01   \u001b[0m |\n",
      "| \u001b[0m 27      \u001b[0m | \u001b[0m 0.8804  \u001b[0m | \u001b[0m 14.67   \u001b[0m | \u001b[0m 0.3384  \u001b[0m | \u001b[0m 23.75   \u001b[0m | \u001b[0m 44.87   \u001b[0m |\n",
      "| \u001b[0m 28      \u001b[0m | \u001b[0m 0.9065  \u001b[0m | \u001b[0m 14.92   \u001b[0m | \u001b[0m 0.1638  \u001b[0m | \u001b[0m 4.926   \u001b[0m | \u001b[0m 197.2   \u001b[0m |\n",
      "| \u001b[0m 29      \u001b[0m | \u001b[0m 0.8941  \u001b[0m | \u001b[0m 14.69   \u001b[0m | \u001b[0m 0.3252  \u001b[0m | \u001b[0m 12.71   \u001b[0m | \u001b[0m 248.0   \u001b[0m |\n",
      "| \u001b[0m 30      \u001b[0m | \u001b[0m 0.8998  \u001b[0m | \u001b[0m 14.61   \u001b[0m | \u001b[0m 0.2827  \u001b[0m | \u001b[0m 20.65   \u001b[0m | \u001b[0m 222.2   \u001b[0m |\n",
      "| \u001b[0m 31      \u001b[0m | \u001b[0m 0.8772  \u001b[0m | \u001b[0m 14.91   \u001b[0m | \u001b[0m 0.3863  \u001b[0m | \u001b[0m 2.122   \u001b[0m | \u001b[0m 38.07   \u001b[0m |\n",
      "| \u001b[0m 32      \u001b[0m | \u001b[0m 0.891   \u001b[0m | \u001b[0m 14.85   \u001b[0m | \u001b[0m 0.2617  \u001b[0m | \u001b[0m 5.629   \u001b[0m | \u001b[0m 66.05   \u001b[0m |\n",
      "| \u001b[0m 33      \u001b[0m | \u001b[0m 0.8883  \u001b[0m | \u001b[0m 14.93   \u001b[0m | \u001b[0m 0.3467  \u001b[0m | \u001b[0m 2.044   \u001b[0m | \u001b[0m 115.8   \u001b[0m |\n",
      "| \u001b[0m 34      \u001b[0m | \u001b[0m 0.9066  \u001b[0m | \u001b[0m 14.98   \u001b[0m | \u001b[0m 0.1487  \u001b[0m | \u001b[0m 12.15   \u001b[0m | \u001b[0m 140.5   \u001b[0m |\n",
      "=========================================================================\n"
     ]
    },
    {
     "data": {
      "text/plain": [
       "{'params': {'max_depth': 14.999999998845997,\n",
       "  'max_features': 0.1,\n",
       "  'min_samples_split': 2.0000000161043894,\n",
       "  'n_estimators': 131.83393831816315},\n",
       " 'target': 0.912533521620589}"
      ]
     },
     "execution_count": 50,
     "metadata": {
      "tags": []
     },
     "output_type": "execute_result"
    }
   ],
   "source": [
    "rf_bo.maximize()\n",
    "\n",
    "### output the optimal hyperparameters\n",
    "rf_bo.max\n",
    "\n"
   ]
  },
  {
   "cell_type": "code",
   "execution_count": 25,
   "metadata": {
    "colab": {
     "base_uri": "https://localhost:8080/",
     "height": 153
    },
    "colab_type": "code",
    "id": "gwDYgNyDDgxy",
    "outputId": "ba91f4c2-250f-4549-c9f3-bce42fd04c53"
   },
   "outputs": [
    {
     "data": {
      "text/plain": [
       "RandomForestClassifier(bootstrap=True, ccp_alpha=0.0, class_weight=None,\n",
       "                       criterion='gini', max_depth=15, max_features=0.1,\n",
       "                       max_leaf_nodes=None, max_samples=None,\n",
       "                       min_impurity_decrease=0.0, min_impurity_split=None,\n",
       "                       min_samples_leaf=1, min_samples_split=2,\n",
       "                       min_weight_fraction_leaf=0.0, n_estimators=131,\n",
       "                       n_jobs=None, oob_score=False, random_state=None,\n",
       "                       verbose=0, warm_start=False)"
      ]
     },
     "execution_count": 25,
     "metadata": {},
     "output_type": "execute_result"
    }
   ],
   "source": [
    "### define classifier and fitting data\n",
    "forest = RandomForestClassifier(max_depth=15, max_features=0.1, min_samples_split=2, n_estimators=131)\n",
    "forest.fit(X_train, y_train)"
   ]
  },
  {
   "cell_type": "code",
   "execution_count": 27,
   "metadata": {
    "colab": {},
    "colab_type": "code",
    "id": "ayglLDMoBQ_E"
   },
   "outputs": [
    {
     "data": {
      "text/plain": [
       "0.9122571225598287"
      ]
     },
     "execution_count": 27,
     "metadata": {},
     "output_type": "execute_result"
    }
   ],
   "source": [
    "y_pred = forest.predict(X_test)\n",
    "np.mean(cross_val_score(forest, X_train, y_train, cv=5, scoring='roc_auc'))"
   ]
  },
  {
   "cell_type": "code",
   "execution_count": 29,
   "metadata": {
    "colab": {},
    "colab_type": "code",
    "id": "pmdDOg-OB2Yz"
   },
   "outputs": [],
   "source": [
    "### Features importances\n",
    "importances = forest.feature_importances_\n",
    "std = np.std([tree.feature_importances_ for tree in forest.estimators_],\n",
    "             axis=0)\n",
    "indices = np.argsort(importances)[::-1]\n",
    "feature_list = tfidf_vectorizer.get_feature_names()\n",
    "ff = np.array(feature_list)\n"
   ]
  },
  {
   "cell_type": "code",
   "execution_count": 30,
   "metadata": {
    "colab": {},
    "colab_type": "code",
    "id": "OlmbHGJVB9QZ"
   },
   "outputs": [],
   "source": [
    "### list top 10 important features\n",
    "final_index = [ff[item] for item in indices][:10]"
   ]
  },
  {
   "cell_type": "code",
   "execution_count": 31,
   "metadata": {
    "colab": {},
    "colab_type": "code",
    "id": "ufKDQqzJCjLC"
   },
   "outputs": [],
   "source": [
    "imp_list = [list(name_num .keys()) [list (name_num .values()).index (item)] for item in final_index]"
   ]
  },
  {
   "cell_type": "code",
   "execution_count": 32,
   "metadata": {
    "colab": {
     "base_uri": "https://localhost:8080/",
     "height": 595
    },
    "colab_type": "code",
    "id": "-GfsTtVWDZL7",
    "outputId": "9b230009-64d3-42bb-8028-fdeebe94717f"
   },
   "outputs": [
    {
     "data": {
      "image/png": "[encoded data removed]",
      "text/plain": [
       "<Figure size 648x432 with 1 Axes>"
      ]
     },
     "metadata": {
      "needs_background": "light"
     },
     "output_type": "display_data"
    }
   ],
   "source": [
    "### plot important ingredient for Italian\n",
    "\n",
    "plt.figure(figsize=(9,6))\n",
    "plt.bar(imp_list, importances[indices[:10]], color='red')\n",
    "\n",
    "plt.xlabel('Ingredient',fontsize = 18)\n",
    "plt.ylabel('Importance',fontsize = 18)\n",
    "\n",
    "plt.xticks(fontsize=12,rotation=90)\n",
    "\n",
    "plt.title('Important Ingredient for {}'.format(food.upper()), y=1.05, fontsize=18,fontweight='bold') \n",
    "plt.savefig('importance_rf.png',  bbox_inches = 'tight')"
   ]
  },
  {
   "cell_type": "code",
   "execution_count": 0,
   "metadata": {
    "colab": {},
    "colab_type": "code",
    "id": "yRilWOMSW9Ja"
   },
   "outputs": [],
   "source": []
  }
 ],
 "metadata": {
  "colab": {
   "name": "follower.ipynb",
   "provenance": []
  },
  "kernelspec": {
   "display_name": "Python 3",
   "language": "python",
   "name": "python3"
  },
  "language_info": {
   "codemirror_mode": {
    "name": "ipython",
    "version": 3
   },
   "file_extension": ".py",
   "mimetype": "text/x-python",
   "name": "python",
   "nbconvert_exporter": "python",
   "pygments_lexer": "ipython3",
   "version": "3.7.6"
  }
 },
 "nbformat": 4,
 "nbformat_minor": 1
}
