{
 "cells": [
  {
   "cell_type": "code",
   "execution_count": 1,
   "metadata": {},
   "outputs": [],
   "source": [
    "import pandas as pd\n",
    "import numpy as np\n",
    "import json\n",
    "import matplotlib.pyplot as plt\n",
    "\n",
    "\n",
    "from sklearn.model_selection import train_test_split, cross_val_score\n",
    "from sklearn.metrics import confusion_matrix\n",
    "from sklearn.preprocessing import scale\n",
    "from sklearn.ensemble import RandomForestClassifier\n",
    "from nltk.probability import FreqDist\n",
    "from sklearn.feature_extraction.text import TfidfVectorizer\n",
    "from scipy.sparse import csr_matrix"
   ]
  },
  {
   "cell_type": "code",
   "execution_count": 2,
   "metadata": {},
   "outputs": [],
   "source": [
    "df = pd.read_json('recipies.json')"
   ]
  },
  {
   "cell_type": "code",
   "execution_count": null,
   "metadata": {},
   "outputs": [],
   "source": []
  },
  {
   "cell_type": "code",
   "execution_count": 4,
   "metadata": {},
   "outputs": [
    {
     "data": {
      "text/plain": [
       "<matplotlib.axes._subplots.AxesSubplot at 0x18cebd351c8>"
      ]
     },
     "execution_count": 4,
     "metadata": {},
     "output_type": "execute_result"
    },
    {
     "data": {
      "image/png": "[encoded data removed]",
      "text/plain": [
       "<Figure size 432x288 with 1 Axes>"
      ]
     },
     "metadata": {
      "needs_background": "light"
     },
     "output_type": "display_data"
    }
   ],
   "source": [
    "df.cuisine.value_counts().plot(kind = 'bar')"
   ]
  },
  {
   "cell_type": "markdown",
   "metadata": {},
   "source": [
    "# nltk"
   ]
  },
  {
   "cell_type": "code",
   "execution_count": 5,
   "metadata": {},
   "outputs": [],
   "source": [
    "###find the important gradient by word frequency"
   ]
  },
  {
   "cell_type": "code",
   "execution_count": 6,
   "metadata": {},
   "outputs": [],
   "source": [
    "cui_list = df.cuisine.unique()"
   ]
  },
  {
   "cell_type": "code",
   "execution_count": 7,
   "metadata": {},
   "outputs": [],
   "source": [
    "food = 'italian'"
   ]
  },
  {
   "cell_type": "code",
   "execution_count": 8,
   "metadata": {},
   "outputs": [
    {
     "name": "stdout",
     "output_type": "stream",
     "text": [
      "greek [('salt', 572), ('olive oil', 504), ('dried oregano', 267), ('garlic cloves', 254), ('feta cheese crumbles', 252), ('extra-virgin olive oil', 229), ('fresh lemon juice', 222), ('ground black pepper', 221), ('garlic', 216), ('pepper', 203)] \n",
      "\n",
      "southern_us [('salt', 2290), ('butter', 1255), ('all-purpose flour', 1222), ('sugar', 1054), ('large eggs', 746), ('baking powder', 729), ('water', 686), ('unsalted butter', 655), ('milk', 645), ('buttermilk', 634)] \n",
      "\n",
      "filipino [('salt', 421), ('garlic', 325), ('water', 310), ('onions', 310), ('soy sauce', 251), ('pepper', 199), ('oil', 166), ('sugar', 136), ('carrots', 128), ('ground black pepper', 124)] \n",
      "\n",
      "indian [('salt', 1934), ('onions', 1195), ('garam masala', 862), ('water', 820), ('ground turmeric', 728), ('garlic', 726), ('cumin seed', 697), ('ground cumin', 683), ('vegetable oil', 593), ('oil', 546)] \n",
      "\n",
      "jamaican [('salt', 332), ('onions', 173), ('water', 153), ('garlic', 139), ('ground allspice', 128), ('pepper', 125), ('scallions', 111), ('dried thyme', 105), ('black pepper', 103), ('garlic cloves', 101)] \n",
      "\n",
      "spanish [('salt', 460), ('olive oil', 387), ('garlic cloves', 290), ('extra-virgin olive oil', 255), ('onions', 253), ('water', 158), ('tomatoes', 151), ('ground black pepper', 149), ('red bell pepper', 142), ('pepper', 133)] \n",
      "\n",
      "italian [('salt', 3454), ('olive oil', 3111), ('garlic cloves', 1619), ('grated parmesan cheese', 1580), ('garlic', 1471), ('ground black pepper', 1444), ('extra-virgin olive oil', 1362), ('onions', 1240), ('water', 1052), ('butter', 1030)] \n",
      "\n",
      "mexican [('salt', 2720), ('onions', 1493), ('ground cumin', 1346), ('garlic', 1317), ('olive oil', 1289), ('chili powder', 1236), ('jalapeno chilies', 1146), ('sour cream', 1076), ('avocado', 1044), ('corn tortillas', 946)] \n",
      "\n",
      "chinese [('soy sauce', 1363), ('sesame oil', 915), ('salt', 907), ('corn starch', 906), ('sugar', 824), ('garlic', 763), ('water', 762), ('green onions', 628), ('vegetable oil', 602), ('scallions', 591)] \n",
      "\n",
      "british [('salt', 407), ('all-purpose flour', 238), ('butter', 222), ('milk', 202), ('eggs', 191), ('unsalted butter', 191), ('sugar', 176), ('onions', 142), ('baking powder', 122), ('large eggs', 110)] \n",
      "\n",
      "thai [('fish sauce', 625), ('garlic', 414), ('salt', 396), ('coconut milk', 353), ('vegetable oil', 335), ('soy sauce', 332), ('sugar', 330), ('water', 310), ('garlic cloves', 299), ('fresh lime juice', 273)] \n",
      "\n",
      "vietnamese [('fish sauce', 392), ('sugar', 344), ('salt', 264), ('garlic', 239), ('water', 227), ('carrots', 196), ('soy sauce', 155), ('shallots', 151), ('garlic cloves', 148), ('vegetable oil', 145)] \n",
      "\n",
      "cajun_creole [('salt', 743), ('onions', 529), ('garlic', 370), ('green bell pepper', 336), ('butter', 334), ('olive oil', 316), ('cayenne pepper', 297), ('cajun seasoning', 293), ('all-purpose flour', 291), ('water', 280)] \n",
      "\n",
      "brazilian [('salt', 194), ('onions', 133), ('olive oil', 118), ('lime', 89), ('water', 87), ('garlic cloves', 83), ('garlic', 82), ('cachaca', 70), ('sugar', 69), ('tomatoes', 63)] \n",
      "\n",
      "french [('salt', 1203), ('sugar', 637), ('all-purpose flour', 593), ('unsalted butter', 592), ('olive oil', 516), ('butter', 514), ('water', 439), ('large eggs', 415), ('garlic cloves', 403), ('ground black pepper', 385)] \n",
      "\n",
      "japanese [('soy sauce', 561), ('salt', 422), ('mirin', 402), ('sugar', 401), ('water', 383), ('sake', 289), ('rice vinegar', 261), ('vegetable oil', 245), ('scallions', 229), ('ginger', 190)] \n",
      "\n",
      "irish [('salt', 376), ('all-purpose flour', 219), ('butter', 219), ('onions', 132), ('sugar', 120), ('potatoes', 120), ('baking soda', 115), ('baking powder', 112), ('milk', 111), ('carrots', 105)] \n",
      "\n",
      "korean [('soy sauce', 427), ('sesame oil', 403), ('garlic', 303), ('green onions', 293), ('sugar', 266), ('salt', 253), ('water', 242), ('sesame seeds', 223), ('onions', 208), ('scallions', 196)] \n",
      "\n",
      "moroccan [('salt', 413), ('olive oil', 412), ('ground cumin', 348), ('onions', 280), ('ground cinnamon', 223), ('garlic cloves', 223), ('water', 182), ('ground ginger', 175), ('carrots', 155), ('paprika', 150)] \n",
      "\n",
      "russian [('salt', 288), ('sugar', 155), ('onions', 145), ('all-purpose flour', 123), ('sour cream', 117), ('eggs', 112), ('water', 111), ('butter', 104), ('unsalted butter', 93), ('large eggs', 85)] \n",
      "\n"
     ]
    }
   ],
   "source": [
    "for item in cui_list:\n",
    "    lirsh = df.ingredients[df.cuisine == item].tolist()\n",
    "    total =  [x for j in lirsh for x in j]\n",
    "    fdist = FreqDist(total)\n",
    "    tops=fdist.most_common(10)\n",
    "    print(item, tops, '\\n' )\n"
   ]
  },
  {
   "cell_type": "code",
   "execution_count": 42,
   "metadata": {},
   "outputs": [],
   "source": [
    "lirsh = df.ingredients[df.cuisine == food].tolist()\n",
    "\n",
    "total =  [x for j in lirsh for x in j if x!='salt']\n",
    "\n",
    "fdist = FreqDist(total)\n",
    "tops=fdist.most_common(10)"
   ]
  },
  {
   "cell_type": "code",
   "execution_count": 48,
   "metadata": {},
   "outputs": [],
   "source": [
    "xxx = [tops[i][0] for i in range(10)]\n",
    "yyy = [tops[i][1] for i in range(10)]"
   ]
  },
  {
   "cell_type": "code",
   "execution_count": 51,
   "metadata": {},
   "outputs": [
    {
     "data": {
      "image/png": "[encoded data removed]",
      "text/plain": [
       "<Figure size 648x432 with 1 Axes>"
      ]
     },
     "metadata": {
      "needs_background": "light"
     },
     "output_type": "display_data"
    }
   ],
   "source": [
    "plt.figure(figsize=(9,6))\n",
    "plt.bar(xx, yyy, color='blue')\n",
    "\n",
    "plt.xlabel('Ingredient',fontsize = 18)\n",
    "plt.ylabel('Frequency',fontsize = 18)\n",
    "\n",
    "plt.xticks(fontsize=12,rotation=90)\n",
    "\n",
    "plt.title('Important Ingredient for {}'.format(food.upper()), y=1.05, fontsize=18,fontweight='bold') \n",
    "plt.savefig('importance_nltk.png',  bbox_inches = 'tight')"
   ]
  },
  {
   "cell_type": "markdown",
   "metadata": {},
   "source": [
    "# rf classification"
   ]
  },
  {
   "cell_type": "code",
   "execution_count": 16,
   "metadata": {},
   "outputs": [],
   "source": [
    "###find the important ingredient by feature importance"
   ]
  },
  {
   "cell_type": "code",
   "execution_count": 10,
   "metadata": {},
   "outputs": [],
   "source": [
    "allinone = df.ingredients.tolist()"
   ]
  },
  {
   "cell_type": "code",
   "execution_count": 11,
   "metadata": {},
   "outputs": [],
   "source": [
    "total_all =  [x for j in allinone for x in j ]"
   ]
  },
  {
   "cell_type": "code",
   "execution_count": null,
   "metadata": {},
   "outputs": [],
   "source": []
  },
  {
   "cell_type": "code",
   "execution_count": 12,
   "metadata": {},
   "outputs": [],
   "source": [
    "name = list(set(total_all))"
   ]
  },
  {
   "cell_type": "code",
   "execution_count": 13,
   "metadata": {},
   "outputs": [],
   "source": [
    "num = [str(i) for i in range(len(name))]"
   ]
  },
  {
   "cell_type": "code",
   "execution_count": 14,
   "metadata": {},
   "outputs": [],
   "source": [
    "name_num = dict(zip(name, num))"
   ]
  },
  {
   "cell_type": "code",
   "execution_count": 15,
   "metadata": {},
   "outputs": [],
   "source": [
    "def map_ingredient(info):\n",
    "    at = [name_num[i] for i in info]\n",
    "    at = ' '.join(item for item in at)\n",
    "    return at"
   ]
  },
  {
   "cell_type": "code",
   "execution_count": 16,
   "metadata": {
    "scrolled": true
   },
   "outputs": [],
   "source": [
    "df['formated'] =df.ingredients.apply(map_ingredient)\n"
   ]
  },
  {
   "cell_type": "code",
   "execution_count": 17,
   "metadata": {},
   "outputs": [],
   "source": [
    "tfidf_vectorizer = TfidfVectorizer(max_df = 0.9, ngram_range=(1, 1), max_features=300 )\n",
    "# TF-IDF feature matrix\n",
    "tfidf = tfidf_vectorizer.fit_transform(df.formated)"
   ]
  },
  {
   "cell_type": "code",
   "execution_count": 18,
   "metadata": {},
   "outputs": [],
   "source": [
    "X = tfidf.toarray()"
   ]
  },
  {
   "cell_type": "code",
   "execution_count": 19,
   "metadata": {},
   "outputs": [],
   "source": [
    "y = df['cuisine']"
   ]
  },
  {
   "cell_type": "code",
   "execution_count": 20,
   "metadata": {},
   "outputs": [
    {
     "data": {
      "text/plain": [
       "RandomForestClassifier(bootstrap=True, ccp_alpha=0.0, class_weight=None,\n",
       "                       criterion='gini', max_depth=20, max_features='auto',\n",
       "                       max_leaf_nodes=None, max_samples=None,\n",
       "                       min_impurity_decrease=0.0, min_impurity_split=None,\n",
       "                       min_samples_leaf=1, min_samples_split=2,\n",
       "                       min_weight_fraction_leaf=0.0, n_estimators=100,\n",
       "                       n_jobs=None, oob_score=False, random_state=0, verbose=0,\n",
       "                       warm_start=False)"
      ]
     },
     "execution_count": 20,
     "metadata": {},
     "output_type": "execute_result"
    }
   ],
   "source": [
    "#split to training and testing\n",
    "X_train, X_test, y_train, y_test = train_test_split(X, y, test_size=0.3, random_state=41)\n",
    "\n",
    "# define classifier and fitting data\n",
    "forest = RandomForestClassifier(max_depth=20, random_state=0)\n",
    "forest.fit(X_train, y_train)"
   ]
  },
  {
   "cell_type": "code",
   "execution_count": 21,
   "metadata": {},
   "outputs": [],
   "source": [
    "y_pred = forest.predict(X_test)\n"
   ]
  },
  {
   "cell_type": "code",
   "execution_count": 22,
   "metadata": {},
   "outputs": [
    {
     "data": {
      "image/png": "[encoded data removed]",
      "text/plain": [
       "<Figure size 432x288 with 1 Axes>"
      ]
     },
     "metadata": {
      "needs_background": "light"
     },
     "output_type": "display_data"
    }
   ],
   "source": [
    "# Features importances\n",
    "importances = forest.feature_importances_\n",
    "std = np.std([tree.feature_importances_ for tree in forest.estimators_],\n",
    "             axis=0)\n",
    "indices = np.argsort(importances)[::-1]\n",
    "feature_list = tfidf_vectorizer.get_feature_names()\n",
    "ff = np.array(feature_list)\n",
    "\n",
    "# Print the feature ranking\n",
    "#print(\"Feature ranking:\")\n",
    "\n",
    "# for f in range(len(feature_list)):\n",
    "#     print(\"%d. feature %d (%f) name: %s\" % (f + 1, indices[f], importances[indices[f]], ff[indices[f]]))\n",
    "\n",
    "\n",
    "# Plot the feature importances of the forest\n",
    "plt.figure()\n",
    "plt.rcParams['figure.figsize'] = [16, 6]\n",
    "plt.title(\"Feature importances\")\n",
    "plt.bar(range(X.shape[1]), importances[indices],\n",
    "       color=\"r\", yerr=std[indices], align=\"center\")\n",
    "plt.xticks(range(X.shape[1]), ff[indices], rotation=90)\n",
    "plt.xlim([-1, X.shape[1]])\n",
    "plt.show()"
   ]
  },
  {
   "cell_type": "code",
   "execution_count": 23,
   "metadata": {},
   "outputs": [],
   "source": [
    "## The new additions to get feature importance to classes: \n",
    "\n",
    "# To get the importance according to each class:\n",
    "def class_feature_importance(X, Y, feature_importances):\n",
    "    N, M = X.shape\n",
    "    X = scale(X)\n",
    "\n",
    "    out = {}\n",
    "    for c in set(Y):\n",
    "        out[c] = dict(\n",
    "            zip(range(N), np.mean(X[Y==c, :], axis=0)*feature_importances)\n",
    "        )\n",
    "\n",
    "    return out\n",
    "\n",
    "result = class_feature_importance(X, y, importances)"
   ]
  },
  {
   "cell_type": "code",
   "execution_count": null,
   "metadata": {},
   "outputs": [],
   "source": []
  },
  {
   "cell_type": "code",
   "execution_count": 24,
   "metadata": {},
   "outputs": [],
   "source": [
    "###find important feature for each cuisine"
   ]
  },
  {
   "cell_type": "code",
   "execution_count": 25,
   "metadata": {},
   "outputs": [],
   "source": [
    "ita = result[food]"
   ]
  },
  {
   "cell_type": "code",
   "execution_count": 26,
   "metadata": {},
   "outputs": [],
   "source": [
    "sort_importance = sorted(ita.items(), key=lambda item: abs(item[1]), reverse = True)"
   ]
  },
  {
   "cell_type": "code",
   "execution_count": 27,
   "metadata": {},
   "outputs": [],
   "source": [
    "index = [sort_importance[i][0] for i in range(10)]"
   ]
  },
  {
   "cell_type": "code",
   "execution_count": 28,
   "metadata": {},
   "outputs": [],
   "source": [
    "feature_names = tfidf_vectorizer.get_feature_names()"
   ]
  },
  {
   "cell_type": "code",
   "execution_count": 29,
   "metadata": {},
   "outputs": [],
   "source": [
    "final_index = [feature_names[item] for item in index]"
   ]
  },
  {
   "cell_type": "code",
   "execution_count": 30,
   "metadata": {},
   "outputs": [],
   "source": [
    "imp_list = [list(name_num .keys()) [list (name_num .values()).index (item)] for item in final_index]"
   ]
  },
  {
   "cell_type": "code",
   "execution_count": 31,
   "metadata": {},
   "outputs": [
    {
     "data": {
      "text/plain": [
       "['grated parmesan cheese',\n",
       " 'olive oil',\n",
       " 'soy sauce',\n",
       " 'extra-virgin olive oil',\n",
       " 'sesame oil',\n",
       " 'ground cumin',\n",
       " 'garam masala',\n",
       " 'fresh basil',\n",
       " 'corn tortillas',\n",
       " 'fish sauce']"
      ]
     },
     "execution_count": 31,
     "metadata": {},
     "output_type": "execute_result"
    }
   ],
   "source": [
    "imp_list"
   ]
  },
  {
   "cell_type": "code",
   "execution_count": 32,
   "metadata": {},
   "outputs": [],
   "source": [
    "yy = [abs(sort_importance[i][1]) for i in range(10)]"
   ]
  },
  {
   "cell_type": "code",
   "execution_count": 49,
   "metadata": {},
   "outputs": [
    {
     "data": {
      "image/png": "[encoded data removed]",
      "text/plain": [
       "<Figure size 648x432 with 1 Axes>"
      ]
     },
     "metadata": {
      "needs_background": "light"
     },
     "output_type": "display_data"
    }
   ],
   "source": [
    "plt.figure(figsize=(9,6))\n",
    "plt.bar(imp_list, yy, color='red')\n",
    "\n",
    "plt.xlabel('Ingredient',fontsize = 18)\n",
    "plt.ylabel('Importance',fontsize = 18)\n",
    "\n",
    "plt.xticks(fontsize=12,rotation=90)\n",
    "\n",
    "plt.title('Important Ingredient for {}'.format(food.upper()), y=1.05, fontsize=18,fontweight='bold') \n",
    "plt.savefig('importance_rf.png',  bbox_inches = 'tight')"
   ]
  },
  {
   "cell_type": "code",
   "execution_count": null,
   "metadata": {},
   "outputs": [],
   "source": []
  }
 ],
 "metadata": {
  "kernelspec": {
   "display_name": "Python 3",
   "language": "python",
   "name": "python3"
  },
  "language_info": {
   "codemirror_mode": {
    "name": "ipython",
    "version": 3
   },
   "file_extension": ".py",
   "mimetype": "text/x-python",
   "name": "python",
   "nbconvert_exporter": "python",
   "pygments_lexer": "ipython3",
   "version": "3.7.6"
  }
 },
 "nbformat": 4,
 "nbformat_minor": 4
}
